{
 "cells": [
  {
   "cell_type": "code",
   "execution_count": 1,
   "metadata": {},
   "outputs": [],
   "source": [
    "from selenium import webdriver\n",
    "from selenium.webdriver.common.by import By\n",
    "from selenium.webdriver.support.ui import WebDriverWait\n",
    "from selenium.webdriver.support import expected_conditions as EC"
   ]
  },
  {
   "cell_type": "code",
   "execution_count": 4,
   "metadata": {},
   "outputs": [],
   "source": [
    "# Set up the webdriver (make sure you have the appropriate webdriver installed)\n",
    "driver = webdriver.Chrome()\n",
    "\n",
    "# Navigate to the website\n",
    "url = \"https://addapinch.com/category/all-recipes/\"\n",
    "driver.get(url)"
   ]
  },
  {
   "cell_type": "code",
   "execution_count": 48,
   "metadata": {},
   "outputs": [
    {
     "name": "stdout",
     "output_type": "stream",
     "text": [
      "An error occurred: Message: \n",
      "Stacktrace:\n",
      "\tGetHandleVerifier [0x00007FF6B5542142+3514994]\n",
      "\t(No symbol) [0x00007FF6B5160CE2]\n",
      "\t(No symbol) [0x00007FF6B50076AA]\n",
      "\t(No symbol) [0x00007FF6B5051860]\n",
      "\t(No symbol) [0x00007FF6B505197C]\n",
      "\t(No symbol) [0x00007FF6B5094EE7]\n",
      "\t(No symbol) [0x00007FF6B507602F]\n",
      "\t(No symbol) [0x00007FF6B50928F6]\n",
      "\t(No symbol) [0x00007FF6B5075D93]\n",
      "\t(No symbol) [0x00007FF6B5044BDC]\n",
      "\t(No symbol) [0x00007FF6B5045C64]\n",
      "\tGetHandleVerifier [0x00007FF6B556E16B+3695259]\n",
      "\tGetHandleVerifier [0x00007FF6B55C6737+4057191]\n",
      "\tGetHandleVerifier [0x00007FF6B55BE4E3+4023827]\n",
      "\tGetHandleVerifier [0x00007FF6B52904F9+689705]\n",
      "\t(No symbol) [0x00007FF6B516C048]\n",
      "\t(No symbol) [0x00007FF6B5168044]\n",
      "\t(No symbol) [0x00007FF6B51681C9]\n",
      "\t(No symbol) [0x00007FF6B51588C4]\n",
      "\tBaseThreadInitThunk [0x00007FFB8AFF257D+29]\n",
      "\tRtlUserThreadStart [0x00007FFB8CFAAA58+40]\n",
      "\n"
     ]
    }
   ],
   "source": [
    "import json\n",
    "\n",
    "# Create a list to store the links\n",
    "links = []\n",
    "\n",
    "while True:\n",
    "    try:\n",
    "        # Locate the section element\n",
    "        div_element = driver.find_element(By.XPATH, '//*[@id=\"main-content\"]/div/main/div[1]/div[2]/div')\n",
    "\n",
    "        # Find all the article elements within the div\n",
    "        articles = div_element.find_elements(By.CLASS_NAME, 'post-summary')\n",
    "\n",
    "        for article in articles:\n",
    "            # Find the anchor tag within each article\n",
    "            image_tag = article.find_element(By.CLASS_NAME, 'post-summary__image')\n",
    "\n",
    "            # Find the anchor tag within each article's image tag\n",
    "            a = image_tag.find_element(By.TAG_NAME, 'a')\n",
    "\n",
    "            # Get the href attribute (link)\n",
    "            link = a.get_attribute(\"href\")\n",
    "\n",
    "            # Append the link to the list\n",
    "            links.append(link)\n",
    "\n",
    "        # Find the \"Next\" button\n",
    "        next_button = WebDriverWait(driver, 3).until(EC.presence_of_element_located((By.XPATH, '//a[@class=\"facetwp-page next\"]')))\n",
    "\n",
    "        # Click the \"Next\" button\n",
    "        next_button.click()\n",
    "\n",
    "    except Exception as e:\n",
    "        # Break the loop if there's no \"Next\" button or any other exception occurs\n",
    "        print(f\"An error occurred: {e}\")\n",
    "        break\n",
    "\n",
    "# Remove duplicates from the links list\n",
    "links = list(set(links))\n",
    "\n",
    "# Define the filepath for the JSON file\n",
    "file_name = \"./links/3. addapinch.json\"\n",
    "\n",
    "# Save the links to the JSON file\n",
    "with open(file_name, 'w') as file:\n",
    "    json.dump(links, file)"
   ]
  }
 ],
 "metadata": {
  "kernelspec": {
   "display_name": ".venv",
   "language": "python",
   "name": "python3"
  },
  "language_info": {
   "codemirror_mode": {
    "name": "ipython",
    "version": 3
   },
   "file_extension": ".py",
   "mimetype": "text/x-python",
   "name": "python",
   "nbconvert_exporter": "python",
   "pygments_lexer": "ipython3",
   "version": "3.12.1"
  }
 },
 "nbformat": 4,
 "nbformat_minor": 2
}
