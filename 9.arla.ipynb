{
 "cells": [
  {
   "cell_type": "code",
   "execution_count": 1,
   "metadata": {},
   "outputs": [],
   "source": [
    "from selenium import webdriver\n",
    "from selenium.webdriver.common.by import By\n",
    "from selenium.webdriver.support.ui import WebDriverWait\n",
    "from selenium.webdriver.support import expected_conditions as EC\n",
    "from selenium.common.exceptions import TimeoutException, NoSuchElementException"
   ]
  },
  {
   "cell_type": "code",
   "execution_count": 3,
   "metadata": {},
   "outputs": [],
   "source": [
    "# Set up the webdriver (make sure you have the appropriate webdriver installed)\n",
    "driver = webdriver.Chrome()\n",
    "\n",
    "# Navigate to the website\n",
    "url = \"https://www.arla.se/recept/\"\n",
    "driver.get(url)"
   ]
  },
  {
   "cell_type": "code",
   "execution_count": null,
   "metadata": {},
   "outputs": [],
   "source": [
    "while True:\n",
    "    try:\n",
    "        driver.execute_script(\"window.scrollTo(0, document.body.scrollHeight)\")\n",
    "    \n",
    "    except TimeoutException:\n",
    "        break"
   ]
  },
  {
   "cell_type": "code",
   "execution_count": 7,
   "metadata": {},
   "outputs": [],
   "source": [
    "import json\n",
    "\n",
    "links = []\n",
    "\n",
    "# # Get the grid\n",
    "# div_element = driver.find_element(By.XPATH, '//div[@class=\"o-grid o-grid--four-columns\"]')\n",
    "\n",
    "# Get the links of the items grid\n",
    "articles = driver.find_elements(By.XPATH, '//div[@class=\"o-grid o-grid--four-columns\"]/div')\n",
    "\n",
    "\n",
    "try:\n",
    "    for article in articles:\n",
    "        link_element = article.find_element(By.XPATH, './/a')\n",
    "        link = link_element.get_attribute(\"href\")\n",
    "        \n",
    "        links.append(link)\n",
    "\n",
    "except Exception as e:\n",
    "    print(e)\n",
    "\n",
    "# Remove duplicates from the links list\n",
    "links = list(set(links))\n",
    "\n",
    "# Define the filepath for the JSON file\n",
    "file_name = \"./links/9.arla.json\"\n",
    "\n",
    "# Save the links to the JSON file\n",
    "with open(file_name, 'w') as file:\n",
    "    json.dump(links, file, indent=4)"
   ]
  }
 ],
 "metadata": {
  "kernelspec": {
   "display_name": ".venv",
   "language": "python",
   "name": "python3"
  },
  "language_info": {
   "codemirror_mode": {
    "name": "ipython",
    "version": 3
   },
   "file_extension": ".py",
   "mimetype": "text/x-python",
   "name": "python",
   "nbconvert_exporter": "python",
   "pygments_lexer": "ipython3",
   "version": "3.12.1"
  }
 },
 "nbformat": 4,
 "nbformat_minor": 2
}
