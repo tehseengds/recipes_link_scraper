{
 "cells": [
  {
   "cell_type": "code",
   "execution_count": 16,
   "metadata": {},
   "outputs": [],
   "source": [
    "from selenium import webdriver\n",
    "from selenium.webdriver.common.by import By\n",
    "from selenium.webdriver.support.ui import WebDriverWait\n",
    "from selenium.webdriver.support import expected_conditions as EC\n",
    "from selenium.common.exceptions import TimeoutException, NoSuchElementException"
   ]
  },
  {
   "cell_type": "code",
   "execution_count": 17,
   "metadata": {},
   "outputs": [],
   "source": [
    "# Set up the webdriver (make sure you have the appropriate webdriver installed)\n",
    "driver = webdriver.Chrome()\n",
    "\n",
    "# Navigate to the website\n",
    "url = \"https://www.fattoincasadabenedetta.it/ricetta\"\n",
    "driver.get(url)"
   ]
  },
  {
   "cell_type": "code",
   "execution_count": null,
   "metadata": {},
   "outputs": [],
   "source": [
    "import json\n",
    "\n",
    "\n",
    "links = []\n",
    "i = 1\n",
    "\n",
    "while True:\n",
    "    try:\n",
    "        pagination = driver.find_element(By.XPATH, '//span[@class=\"page-numbers current\"]')\n",
    "\n",
    "        # Check and skip unwanted page numbers\n",
    "        if pagination.text.strip() == \"173\":\n",
    "            # Change the URL as needed\n",
    "            new_url = \"https://www.fattoincasadabenedetta.it/ricetta/page/175\"\n",
    "            driver.get(new_url)\n",
    "            continue\n",
    "        elif pagination.text.strip() == \"191\":\n",
    "            # Change the URL as needed\n",
    "            new_url = \"https://www.fattoincasadabenedetta.it/ricetta/page/193\"\n",
    "            driver.get(new_url)\n",
    "            continue\n",
    "        elif pagination.text.strip() == \"210\":\n",
    "            # Change the URL as needed\n",
    "            new_url = \"https://www.fattoincasadabenedetta.it/ricetta/page/212\"\n",
    "            driver.get(new_url)\n",
    "            continue\n",
    "        elif pagination.text.strip() == \"217\":\n",
    "            # Change the URL as needed\n",
    "            new_url = \"https://www.fattoincasadabenedetta.it/ricetta/page/219\"\n",
    "            driver.get(new_url)\n",
    "            continue\n",
    "        elif pagination.text.strip() == \"229\":\n",
    "            # Change the URL as needed\n",
    "            new_url = \"https://www.fattoincasadabenedetta.it/ricetta/page/231\"\n",
    "            driver.get(new_url)\n",
    "            continue\n",
    "        elif pagination.text.strip() == \"233\":\n",
    "            # Change the URL as needed\n",
    "            new_url = \"https://www.fattoincasadabenedetta.it/ricetta/page/235\"\n",
    "            driver.get(new_url)\n",
    "            continue\n",
    "        elif pagination.text.strip() == \"239\":\n",
    "            # Change the URL as needed\n",
    "            new_url = \"https://www.fattoincasadabenedetta.it/ricetta/page/241\"\n",
    "            driver.get(new_url)\n",
    "            continue\n",
    "        else:\n",
    "            articles = driver.find_elements(By.XPATH, '//div[contains(@class, \"recipe-teaser\")]/a')\n",
    "\n",
    "            for article in articles:\n",
    "                link = article.get_attribute(\"href\")\n",
    "                links.append(link)\n",
    "                print(link)\n",
    "\n",
    "        # Find the next button\n",
    "        next_button = WebDriverWait(driver, 10).until(EC.element_to_be_clickable((By.XPATH, '//a[@class=\"next page-numbers\"]')))\n",
    "\n",
    "        # Scroll the page\n",
    "        driver.execute_script(\"window.scrollTo(0, document.body.scrollHeight);\")\n",
    "\n",
    "        # time.sleep(5)\n",
    "        # driver.execute_script(\"arguments[0].click();\", next_button)\n",
    "        next_button.click()\n",
    "        print(f\"Page Completed {i}\")\n",
    "        i += 1\n",
    "\n",
    "    except TimeoutException:\n",
    "        break\n",
    "\n",
    "# Remove duplicates from the links list\n",
    "links = list(set(links))\n",
    "\n",
    "# Define the filepath for the JSON file\n",
    "file_name = \"./links/35.fattoincasadabenedetta.json\"\n",
    "\n",
    "# Open the file & Write data to JSON file\n",
    "with open(file_name, \"w\") as f:\n",
    "    json.dump(links, f, indent=4)"
   ]
  },
  {
   "cell_type": "code",
   "execution_count": 13,
   "metadata": {},
   "outputs": [],
   "source": [
    "# Define the filepath for the JSON file\n",
    "file_name = \"./links/35.fattoincasadabenedetta.json\"\n",
    "\n",
    "# Open the file & Write data to JSON file\n",
    "with open(file_name, \"r\") as f:\n",
    "    json_data = json.load(f)\n",
    "\n",
    "for link in json_data:\n",
    "    if \"Page Completed\" in link:\n",
    "        json_data.remove(link)\n",
    "\n",
    "# Define the filepath for the JSON file\n",
    "file_name = \"./links/35.fattoincasadabenedettaQQQ.json\"\n",
    "\n",
    "# Open the file & Write data to JSON file\n",
    "with open(file_name, \"w\") as f:\n",
    "    json.dump(json_data, f, indent=4)"
   ]
  },
  {
   "cell_type": "code",
   "execution_count": 32,
   "metadata": {},
   "outputs": [
    {
     "ename": "AttributeError",
     "evalue": "'WebElement' object has no attribute 'next'",
     "output_type": "error",
     "traceback": [
      "\u001b[1;31m---------------------------------------------------------------------------\u001b[0m",
      "\u001b[1;31mAttributeError\u001b[0m                            Traceback (most recent call last)",
      "Cell \u001b[1;32mIn[32], line 2\u001b[0m\n\u001b[0;32m      1\u001b[0m pagination \u001b[38;5;241m=\u001b[39m driver\u001b[38;5;241m.\u001b[39mfind_element(By\u001b[38;5;241m.\u001b[39mXPATH, \u001b[38;5;124m'\u001b[39m\u001b[38;5;124m//span[@class=\u001b[39m\u001b[38;5;124m\"\u001b[39m\u001b[38;5;124mpage-numbers current\u001b[39m\u001b[38;5;124m\"\u001b[39m\u001b[38;5;124m]\u001b[39m\u001b[38;5;124m'\u001b[39m)\n\u001b[1;32m----> 2\u001b[0m \u001b[38;5;28mprint\u001b[39m(\u001b[43mpagination\u001b[49m\u001b[38;5;241;43m.\u001b[39;49m\u001b[43mnext\u001b[49m\u001b[38;5;241m.\u001b[39mtext)\n\u001b[0;32m      3\u001b[0m \u001b[38;5;28mprint\u001b[39m(\u001b[38;5;28mtype\u001b[39m(pagination\u001b[38;5;241m.\u001b[39mtext))\n",
      "\u001b[1;31mAttributeError\u001b[0m: 'WebElement' object has no attribute 'next'"
     ]
    }
   ],
   "source": [
    "pagination = driver.find_element(By.XPATH, '//span[@class=\"page-numbers current\"]')\n",
    "print(pagination.next.text)\n",
    "print(type(pagination.text))"
   ]
  }
 ],
 "metadata": {
  "kernelspec": {
   "display_name": ".venv",
   "language": "python",
   "name": "python3"
  },
  "language_info": {
   "codemirror_mode": {
    "name": "ipython",
    "version": 3
   },
   "file_extension": ".py",
   "mimetype": "text/x-python",
   "name": "python",
   "nbconvert_exporter": "python",
   "pygments_lexer": "ipython3",
   "version": "3.12.1"
  }
 },
 "nbformat": 4,
 "nbformat_minor": 2
}
