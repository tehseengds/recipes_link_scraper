{
 "cells": [
  {
   "cell_type": "code",
   "execution_count": 1,
   "metadata": {},
   "outputs": [],
   "source": [
    "from selenium import webdriver\n",
    "from selenium.webdriver.common.by import By\n",
    "from selenium.webdriver.support.ui import WebDriverWait\n",
    "from selenium.webdriver.support import expected_conditions as EC\n",
    "from selenium.common.exceptions import TimeoutException, NoSuchElementException"
   ]
  },
  {
   "cell_type": "code",
   "execution_count": 2,
   "metadata": {},
   "outputs": [],
   "source": [
    "# Set up the webdriver (make sure you have the appropriate webdriver installed)\n",
    "driver = webdriver.Chrome()\n",
    "\n",
    "# Navigate to the website\n",
    "url = \"https://www.ambitiouskitchen.com/recipe-index/\"\n",
    "driver.get(url)"
   ]
  },
  {
   "cell_type": "code",
   "execution_count": null,
   "metadata": {},
   "outputs": [],
   "source": [
    "import json\n",
    "\n",
    "links = []\n",
    "\n",
    "while True:\n",
    "    try:\n",
    "        more_button = WebDriverWait(driver, 2).until(EC.presence_of_element_located((By.XPATH, '//div[@class=\"nav-previous\"]/a[text()=\"More Posts\"]')))\n",
    "        more_button.click()\n",
    "        print(\"Clicked more\")\n",
    "\n",
    "        articles = driver.find_elements(By.XPATH, '//div[@class=\"post-item\"]/a')\n",
    "        for article in articles:\n",
    "            links.append(article.get_attribute(\"href\"))\n",
    "\n",
    "    except Exception as e:\n",
    "        print(e)\n",
    "        pass\n",
    "\n",
    "    try:\n",
    "        next_button = WebDriverWait(driver, 2).until(EC.presence_of_element_located((By.XPATH, '//div[@class=\"nav-next\"]/a[text()=\"Next\"]')))\n",
    "        next_button.click()\n",
    "        print(\"Clicked next\")\n",
    "\n",
    "        articles = driver.find_elements(By.XPATH, '//div[@class=\"post-item\"]/a')\n",
    "        for article in articles:\n",
    "            links.append(article.get_attribute(\"href\"))\n",
    "\n",
    "    except Exception as e:\n",
    "        print(e)\n",
    "        break\n",
    "\n",
    "# Remove duplicates from the links list\n",
    "links = list(set(links))\n",
    "\n",
    "# Define the filepath for the JSON file\n",
    "file_name = \"./links/7.ambitiouskitchen.json\"\n",
    "\n",
    "# Open the file & Write data to JSON file\n",
    "with open(file_name, \"w\") as f:\n",
    "    json.dump(links, f, indent=4)"
   ]
  }
 ],
 "metadata": {
  "kernelspec": {
   "display_name": ".venv",
   "language": "python",
   "name": "python3"
  },
  "language_info": {
   "codemirror_mode": {
    "name": "ipython",
    "version": 3
   },
   "file_extension": ".py",
   "mimetype": "text/x-python",
   "name": "python",
   "nbconvert_exporter": "python",
   "pygments_lexer": "ipython3",
   "version": "3.12.1"
  }
 },
 "nbformat": 4,
 "nbformat_minor": 2
}
