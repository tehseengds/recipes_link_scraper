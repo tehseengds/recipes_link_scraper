{
 "cells": [
  {
   "cell_type": "code",
   "execution_count": 15,
   "metadata": {},
   "outputs": [],
   "source": [
    "from selenium import webdriver\n",
    "from selenium.webdriver.common.by import By\n",
    "from selenium.webdriver.support.ui import WebDriverWait\n",
    "from selenium.webdriver.support import expected_conditions as EC\n",
    "from selenium.common.exceptions import TimeoutException, NoSuchElementException"
   ]
  },
  {
   "cell_type": "code",
   "execution_count": 16,
   "metadata": {},
   "outputs": [],
   "source": [
    "# Set up the webdriver (make sure you have the appropriate webdriver installed)\n",
    "driver = webdriver.Chrome()\n",
    "\n",
    "# Navigate to the website\n",
    "url = \"https://www.archanaskitchen.com/recipes\"\n",
    "driver.get(url)"
   ]
  },
  {
   "cell_type": "code",
   "execution_count": null,
   "metadata": {},
   "outputs": [],
   "source": [
    "import json\n",
    "\n",
    "links = []\n",
    "\n",
    "while True:\n",
    "    try:\n",
    "        articles = driver.find_elements(By.XPATH, '//*[@id=\"ak_recipe_categoryblog\"]//a')\n",
    "        for article in articles:\n",
    "            links.append(article.get_attribute(\"href\"))\n",
    "        \n",
    "        next_button = WebDriverWait(driver, 2).until(EC.presence_of_element_located((By.XPATH, '//a[@title=\"Next\"]')))\n",
    "\n",
    "        driver.execute_script(\"arguments[0].click();\", next_button)\n",
    "        print(\"Clicked Next\")\n",
    "\n",
    "    except Exception as e:\n",
    "        print(e)\n",
    "        break\n",
    "\n",
    "\n",
    "# Remove duplicates from the links list\n",
    "links = list(set(links))\n",
    "\n",
    "# Define the filepath for the JSON file\n",
    "file_name = \"./links/8.archanaskitchen.json\"\n",
    "\n",
    "# Open the file & Write data to JSON file\n",
    "with open(file_name, \"w\") as f:\n",
    "    json.dump(links, f, indent=4)"
   ]
  },
  {
   "cell_type": "code",
   "execution_count": 40,
   "metadata": {},
   "outputs": [],
   "source": [
    "import json\n",
    "\n",
    "# Read the JSON file\n",
    "input_file_path = \"./links/8.archanaskitchen.json\"\n",
    "\n",
    "with open(input_file_path, 'r') as file:\n",
    "    data = json.load(file)\n",
    "\n",
    "# Filter out URLs containing \"/artiklar/\"\n",
    "filtered_urls = []\n",
    "if data is not None and isinstance(data, list):\n",
    "    filtered_urls = [url for url in data if url and \"https://www.youtube.com/\" not in url]\n",
    "\n",
    "    # Save the filtered URLs to a new JSON file\n",
    "    with open('output.json', 'w') as file:\n",
    "        json.dump(filtered_urls, file, indent=4)\n",
    "else:\n",
    "    print(\"Invalid data. Please check the input.\")"
   ]
  }
 ],
 "metadata": {
  "kernelspec": {
   "display_name": ".venv",
   "language": "python",
   "name": "python3"
  },
  "language_info": {
   "codemirror_mode": {
    "name": "ipython",
    "version": 3
   },
   "file_extension": ".py",
   "mimetype": "text/x-python",
   "name": "python",
   "nbconvert_exporter": "python",
   "pygments_lexer": "ipython3",
   "version": "3.12.1"
  }
 },
 "nbformat": 4,
 "nbformat_minor": 2
}
