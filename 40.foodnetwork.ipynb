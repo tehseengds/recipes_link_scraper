{
 "cells": [
  {
   "cell_type": "code",
   "execution_count": 1,
   "metadata": {},
   "outputs": [],
   "source": [
    "from selenium import webdriver\n",
    "from selenium.webdriver.common.by import By\n",
    "from selenium.webdriver.support.ui import WebDriverWait\n",
    "from selenium.webdriver.support import expected_conditions as EC\n",
    "from selenium.common.exceptions import TimeoutException, NoSuchElementException"
   ]
  },
  {
   "cell_type": "code",
   "execution_count": 2,
   "metadata": {},
   "outputs": [],
   "source": [
    "# Set up the webdriver (make sure you have the appropriate webdriver installed)\n",
    "driver = webdriver.Chrome()\n",
    "\n",
    "# Navigate to the website\n",
    "url = \"https://www.foodnetwork.com/recipes/recipes-a-z\"\n",
    "driver.get(url)"
   ]
  },
  {
   "cell_type": "code",
   "execution_count": null,
   "metadata": {},
   "outputs": [],
   "source": [
    "import json\n",
    "\n",
    "links = []\n",
    "j = 1\n",
    "\n",
    "while True:\n",
    "    char_btns = driver.find_elements(By.XPATH, '//ul[@class=\"o-IndexPagination__m-List\"]/li/a')\n",
    "    \n",
    "    try:\n",
    "        i = 0\n",
    "        for char_btn in char_btns:\n",
    "            WebDriverWait(driver, 3).until(EC.element_to_be_clickable((By.XPATH, '//ul[@class=\"o-IndexPagination__m-List\"]/li/a')))\n",
    "            char_btns = driver.find_elements(By.XPATH, '//ul[@class=\"o-IndexPagination__m-List\"]/li/a')  # Re-find the elements\n",
    "            driver.execute_script(\"arguments[0].click();\", char_btns[i])\n",
    "            print(f\"Character {i}\")\n",
    "            i += 1\n",
    "\n",
    "            #############################\n",
    "            while True:\n",
    "                try:\n",
    "                    articles = driver.find_elements(By.XPATH, '//li[@class=\"m-PromoList__a-ListItem\"]/a')\n",
    "\n",
    "                    for article in articles:\n",
    "                        link = article.get_attribute(\"href\")\n",
    "                        links.append(link)\n",
    "                        print(link)\n",
    "\n",
    "                    next_buttons = driver.find_element(By.XPATH, '//a[contains(@class,\"o-Pagination__a-NextButton\")]')\n",
    "                    next_buttons.click()\n",
    "                    print(\"Next page\")\n",
    "\n",
    "                    try:\n",
    "                        if (driver.find_element(By.XPATH, '//a[contains(@class,\"is-Disabled\")]')):\n",
    "                            break\n",
    "\n",
    "                    except NoSuchElementException:\n",
    "                        print(f\"Clicked Next {j}\")\n",
    "                        j += 1\n",
    "                        continue\n",
    "\n",
    "                except Exception as e:\n",
    "                    print(e)\n",
    "                    break\n",
    "            #############################\n",
    "\n",
    "        break\n",
    "    except Exception as e:\n",
    "        print(e)\n",
    "        break\n",
    "\n",
    "\n",
    "# Remove duplicates from the links list\n",
    "links = list(set(links))\n",
    "\n",
    "# Define the filepath for the JSON file\n",
    "file_name = \"./links/40.foodnetwork.json\"\n",
    "\n",
    "# Open the file & Write data to JSON file\n",
    "with open(file_name, \"w\") as f:\n",
    "    json.dump(links, f, indent=4)"
   ]
  }
 ],
 "metadata": {
  "kernelspec": {
   "display_name": ".venv",
   "language": "python",
   "name": "python3"
  },
  "language_info": {
   "codemirror_mode": {
    "name": "ipython",
    "version": 3
   },
   "file_extension": ".py",
   "mimetype": "text/x-python",
   "name": "python",
   "nbconvert_exporter": "python",
   "pygments_lexer": "ipython3",
   "version": "3.12.1"
  }
 },
 "nbformat": 4,
 "nbformat_minor": 2
}
