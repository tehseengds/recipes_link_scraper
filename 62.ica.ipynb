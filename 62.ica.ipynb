{
 "cells": [
  {
   "cell_type": "code",
   "execution_count": 1,
   "metadata": {},
   "outputs": [],
   "source": [
    "from selenium import webdriver\n",
    "from selenium.webdriver.common.by import By\n",
    "from selenium.webdriver.support.ui import WebDriverWait\n",
    "from selenium.webdriver.support import expected_conditions as EC\n",
    "from selenium.common.exceptions import TimeoutException, NoSuchElementException, StaleElementReferenceException"
   ]
  },
  {
   "cell_type": "code",
   "execution_count": 2,
   "metadata": {},
   "outputs": [],
   "source": [
    "options = webdriver.ChromeOptions()\n",
    "options.add_argument(\"user-agent=Mozilla/5.0 (Windows NT 10.0; Win64; x64) AppleWebKit/537.36 (KHTML, like Gecko) Chrome/91.0.4472.124 Safari/537.36\")\n",
    "driver = webdriver.Chrome(options=options)\n",
    "\n",
    "url = \"https://www.ica.se/recept/\"\n",
    "\n",
    "driver.get(url)"
   ]
  },
  {
   "cell_type": "code",
   "execution_count": null,
   "metadata": {},
   "outputs": [],
   "source": [
    "while True:\n",
    "    try:\n",
    "        next_button = WebDriverWait(driver, 10).until(EC.presence_of_element_located((By.XPATH, '//div[@class=\"mdsa-page__show-more-button\"]/button')))\n",
    "        driver.execute_script(\"arguments[0].click();\", next_button)\n",
    "\n",
    "    except TimeoutException:\n",
    "        print(\"No more pages to load\")"
   ]
  },
  {
   "cell_type": "code",
   "execution_count": null,
   "metadata": {},
   "outputs": [],
   "source": [
    "import json\n",
    "\n",
    "links = []\n",
    "\n",
    "articles = driver.find_elements(By.XPATH, '//div[@class=\"base-block base-block--quarter base-block--media-top recipe-card--quarter recipe-card data-recipe\"]')\n",
    "\n",
    "for article in articles:\n",
    "    link = article.get_attribute(\"data-recipe-link-url\")\n",
    "    links.append(link)\n",
    "    print(link)\n",
    "\n",
    "# Remove duplicates from the links list\n",
    "links = list(set(links))\n",
    "\n",
    "# Define the filepath for the JSON file\n",
    "file_name = \"./links/62.ica.json\"\n",
    "\n",
    "# Open the file & Write data to JSON file\n",
    "with open(file_name, \"w\") as f:\n",
    "    json.dump(links, f, indent=4)"
   ]
  },
  {
   "cell_type": "code",
   "execution_count": null,
   "metadata": {},
   "outputs": [],
   "source": [
    "import json\n",
    "\n",
    "# Define the filepath for the input JSON file\n",
    "input_file = \"./links/62.ica.json\"\n",
    "\n",
    "# Define the filepath for the output JSON file\n",
    "output_file = \"./links/62.ica.modified.json\"\n",
    "\n",
    "# Read the data from the input JSON file\n",
    "with open(input_file, \"r\") as f:\n",
    "    links = json.load(f)\n",
    "\n",
    "# Add \"https://www.ica.se/\" to each link\n",
    "modified_links = [\"https://www.ica.se/\" + link for link in links]\n",
    "\n",
    "# Write the modified links to the output JSON file\n",
    "with open(output_file, \"w\") as f:\n",
    "    json.dump(modified_links, f, indent=4)\n"
   ]
  }
 ],
 "metadata": {
  "kernelspec": {
   "display_name": ".venv",
   "language": "python",
   "name": "python3"
  },
  "language_info": {
   "codemirror_mode": {
    "name": "ipython",
    "version": 3
   },
   "file_extension": ".py",
   "mimetype": "text/x-python",
   "name": "python",
   "nbconvert_exporter": "python",
   "pygments_lexer": "ipython3",
   "version": "3.12.1"
  }
 },
 "nbformat": 4,
 "nbformat_minor": 2
}
