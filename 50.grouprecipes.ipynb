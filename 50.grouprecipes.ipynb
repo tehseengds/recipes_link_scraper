{
 "cells": [
  {
   "cell_type": "code",
   "execution_count": 13,
   "metadata": {},
   "outputs": [],
   "source": [
    "from selenium import webdriver\n",
    "from selenium.webdriver.common.by import By\n",
    "from selenium.webdriver.support.ui import WebDriverWait\n",
    "from selenium.webdriver.support import expected_conditions as EC\n",
    "from selenium.common.exceptions import TimeoutException, NoSuchElementException, StaleElementReferenceException"
   ]
  },
  {
   "cell_type": "code",
   "execution_count": 25,
   "metadata": {},
   "outputs": [],
   "source": [
    "# Set up the webdriver (make sure you have the appropriate webdriver installed)\n",
    "driver = webdriver.Chrome()\n",
    "\n",
    "# Navigate to the website\n",
    "# url = \"http://www.grouprecipes.com/appetizers\"\n",
    "# url = \"http://www.grouprecipes.com/bread\"\n",
    "# url = \"http://www.grouprecipes.com/breakfast-and-brunch\"\n",
    "# url = \"http://www.grouprecipes.com/desserts\"\n",
    "# url = \"http://www.grouprecipes.com/main-dish\"\n",
    "# url = \"http://www.grouprecipes.com/salad\"\n",
    "# url = \"http://www.grouprecipes.com/side-dish\"\n",
    "url = \"http://www.grouprecipes.com/soups,-stews,-and-chili\"\n",
    "driver.get(url)"
   ]
  },
  {
   "cell_type": "code",
   "execution_count": null,
   "metadata": {},
   "outputs": [],
   "source": [
    "import json\n",
    "\n",
    "links = []\n",
    "i = 1\n",
    "while True:\n",
    "    try:\n",
    "        articles = driver.find_elements(By.XPATH, '//ul[@class=\"recipe_stream\"]/li/div[@class=\"body\"]/h4/a')\n",
    "\n",
    "        for article in articles:\n",
    "            link = article.get_attribute(\"href\")\n",
    "            links.append(link)\n",
    "            print(link)\n",
    "\n",
    "        next_button = driver.find_element(By.XPATH, '//li[@class=\"next\"]/a')\n",
    "\n",
    "        # Scroll the screen to the next button\n",
    "        driver.execute_script(\"arguments[0].scrollIntoView();\", next_button)\n",
    "\n",
    "        next_button.click()\n",
    "        print(f\"Page Completed {i}\")\n",
    "        i += 1\n",
    "\n",
    "\n",
    "    except Exception as e:\n",
    "        print(e)\n",
    "        break\n",
    "\n",
    "\n",
    "# Remove duplicates from the links list\n",
    "links = list(set(links))\n",
    "\n",
    "# Define the filepath for the JSON file\n",
    "file_name = \"./links/50.grouprecipes.json\"\n",
    "\n",
    "# Open the file & Write data to JSON file\n",
    "with open(file_name, \"w\") as f:\n",
    "    json.dump(links, f, indent=4)"
   ]
  },
  {
   "cell_type": "code",
   "execution_count": 28,
   "metadata": {},
   "outputs": [],
   "source": [
    "import json\n",
    "\n",
    "# Define the filepath for the JSON file\n",
    "file_name = \"./links/50.grouprecipes123.json\"\n",
    "\n",
    "# Read the links from the JSON file\n",
    "with open(file_name, \"r\") as f:\n",
    "    links = json.load(f)\n",
    "\n",
    "# Remove the links that contain \"Page Completed\"\n",
    "links = [link for link in links if \"Page Completed\" not in link]\n",
    "\n",
    "# Remove duplicates from the links list\n",
    "links = list(set(links))\n",
    "\n",
    "# Define the filepath for the JSON file\n",
    "file_name = \"./links/50.grouprecipes.json\"\n",
    "\n",
    "# Open the file & Write data to JSON file\n",
    "with open(file_name, \"w\") as f:\n",
    "    json.dump(links, f, indent=4)\n"
   ]
  }
 ],
 "metadata": {
  "kernelspec": {
   "display_name": ".venv",
   "language": "python",
   "name": "python3"
  },
  "language_info": {
   "codemirror_mode": {
    "name": "ipython",
    "version": 3
   },
   "file_extension": ".py",
   "mimetype": "text/x-python",
   "name": "python",
   "nbconvert_exporter": "python",
   "pygments_lexer": "ipython3",
   "version": "3.12.1"
  }
 },
 "nbformat": 4,
 "nbformat_minor": 2
}
