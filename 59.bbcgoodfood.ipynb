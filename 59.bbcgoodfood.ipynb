{
 "cells": [
  {
   "cell_type": "code",
   "execution_count": 1,
   "metadata": {},
   "outputs": [],
   "source": [
    "from selenium import webdriver\n",
    "from selenium.webdriver.common.by import By\n",
    "from selenium.webdriver.support.ui import WebDriverWait\n",
    "from selenium.webdriver.support import expected_conditions as EC\n",
    "from selenium.common.exceptions import TimeoutException, NoSuchElementException, StaleElementReferenceException"
   ]
  },
  {
   "cell_type": "code",
   "execution_count": 44,
   "metadata": {},
   "outputs": [],
   "source": [
    "options = webdriver.ChromeOptions()\n",
    "options.add_argument(\"user-agent=Mozilla/5.0 (Windows NT 10.0; Win64; x64) AppleWebKit/537.36 (KHTML, like Gecko) Chrome/91.0.4472.124 Safari/537.36\")\n",
    "driver = webdriver.Chrome(options=options)\n",
    "\n",
    "url = \"https://www.bbcgoodfood.com/search?q=dinner\"\n",
    "\n",
    "driver.get(url)"
   ]
  },
  {
   "cell_type": "code",
   "execution_count": null,
   "metadata": {},
   "outputs": [],
   "source": [
    "while True:\n",
    "    try:\n",
    "        next_button = WebDriverWait(driver, 10).until(EC.presence_of_element_located((By.XPATH, '//a[@class=\"button load-more-paginator__btn\"]')))\n",
    "        driver.execute_script(\"arguments[0].click();\", next_button)\n",
    "\n",
    "    except TimeoutException:\n",
    "        print(\"No more pages to load\")"
   ]
  },
  {
   "cell_type": "code",
   "execution_count": null,
   "metadata": {},
   "outputs": [],
   "source": [
    "import json\n",
    "\n",
    "links = []\n",
    "\n",
    "grid = driver.find_element(By.XPATH, '//div[@class=\"layout-md-rail__primary\"]')\n",
    "articles = grid.find_elements(By.XPATH, '//div/article/div[@class=\"card__section card__content\"]/a')\n",
    "for article in articles:\n",
    "    link = article.get_attribute(\"href\")\n",
    "    links.append(link)\n",
    "    print(link)\n",
    "\n",
    "# Remove duplicates from the links list\n",
    "links = list(set(links))\n",
    "\n",
    "# Define the filepath for the JSON file\n",
    "file_name = \"./links/59.bbcgoodfood.json\"\n",
    "\n",
    "# Open the file & Write data to JSON file\n",
    "with open(file_name, \"w\") as f:\n",
    "    json.dump(links, f, indent=4)"
   ]
  }
 ],
 "metadata": {
  "kernelspec": {
   "display_name": ".venv",
   "language": "python",
   "name": "python3"
  },
  "language_info": {
   "codemirror_mode": {
    "name": "ipython",
    "version": 3
   },
   "file_extension": ".py",
   "mimetype": "text/x-python",
   "name": "python",
   "nbconvert_exporter": "python",
   "pygments_lexer": "ipython3",
   "version": "3.12.1"
  }
 },
 "nbformat": 4,
 "nbformat_minor": 2
}
