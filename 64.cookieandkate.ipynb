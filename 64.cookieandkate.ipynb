{
 "cells": [
  {
   "cell_type": "code",
   "execution_count": 1,
   "metadata": {},
   "outputs": [],
   "source": [
    "from selenium import webdriver\n",
    "from selenium.webdriver.common.by import By\n",
    "from selenium.webdriver.support.ui import WebDriverWait\n",
    "from selenium.webdriver.support import expected_conditions as EC\n",
    "from selenium.common.exceptions import TimeoutException, NoSuchElementException, StaleElementReferenceException"
   ]
  },
  {
   "cell_type": "code",
   "execution_count": 2,
   "metadata": {},
   "outputs": [],
   "source": [
    "from selenium import webdriver\n",
    "\n",
    "options = webdriver.ChromeOptions()\n",
    "options.add_argument(\"user-agent=Mozilla/5.0 (Windows NT 10.0; Win64; x64) AppleWebKit/537.36 (KHTML, like Gecko) Chrome/91.0.4472.124 Safari/537.36\")\n",
    "\n",
    "driver = webdriver.Chrome(options=options)\n",
    "\n",
    "url = \"https://cookieandkate.com/recipes/\"\n",
    "driver.get(url)\n"
   ]
  },
  {
   "cell_type": "code",
   "execution_count": null,
   "metadata": {},
   "outputs": [],
   "source": [
    "import json\n",
    "import time\n",
    "\n",
    "urls = [\n",
    "    \"https://cookieandkate.com/category/food-recipes/baked-goods/\",\n",
    "    \"https://cookieandkate.com/category/food-recipes/breakfast/\",\n",
    "    \"https://cookieandkate.com/category/food-recipes/cookies/\",\n",
    "    \"https://cookieandkate.com/category/food-recipes/dessert/\",\n",
    "    \"https://cookieandkate.com/category/food-recipes/drinks/\",\n",
    "    \"https://cookieandkate.com/category/food-recipes/entrees/\",\n",
    "    \"https://cookieandkate.com/category/food-recipes/salads/\",\n",
    "    \"https://cookieandkate.com/category/food-recipes/side-dishes/\",\n",
    "    \"https://cookieandkate.com/category/food-recipes/healthy-snacks/\",\n",
    "    \"https://cookieandkate.com/category/food-recipes/soups-and-stews/\"\n",
    "]\n",
    "\n",
    "links = []\n",
    "\n",
    "# Loop through the urls\n",
    "for url in urls:\n",
    "    # Open the URL\n",
    "    driver.get(url)\n",
    "    # Wait for the page to load\n",
    "    time.sleep(5)\n",
    "\n",
    "    # Get links from all pages\n",
    "    while True:\n",
    "        try:\n",
    "            grid = WebDriverWait(driver, 10).until(EC.presence_of_element_located((By.XPATH, '//main[@id=\"genesis-content\"]/div[@class=\"lcp_catlist\"]')))\n",
    "            # Get the links from the grid\n",
    "            articles = driver.find_elements(By.XPATH, '//div[@class=\"lcp_catlist_item\"]/a')\n",
    "            for article in articles:\n",
    "                link = article.get_attribute(\"href\")\n",
    "                links.append(link)\n",
    "                print(link)\n",
    "\n",
    "            # Check if there's a next page button\n",
    "            next_button = WebDriverWait(driver, 10).until(EC.presence_of_element_located((By.XPATH, '//div[@class=\"pagination-next alignright\"]/a')))\n",
    "            # Click the next page button\n",
    "            # next_button.click()\n",
    "            driver.execute_script(\"arguments[0].click();\", next_button)\n",
    "            # Wait for the page to load\n",
    "            time.sleep(3)\n",
    "        except Exception as e:\n",
    "            # If there's no next page button, break the loop\n",
    "            print(\"No more pages available\")\n",
    "            break\n",
    "\n",
    "# Remove duplicates from the links list\n",
    "links = list(set(links))\n",
    "\n",
    "# Define the filepath for the JSON file\n",
    "file_name = \"./links/64.cookieandkate.json\"\n",
    "\n",
    "# Open the file & Write data to JSON file\n",
    "with open(file_name, \"w\") as f:\n",
    "    json.dump(links, f, indent=4)"
   ]
  }
 ],
 "metadata": {
  "kernelspec": {
   "display_name": ".venv",
   "language": "python",
   "name": "python3"
  },
  "language_info": {
   "codemirror_mode": {
    "name": "ipython",
    "version": 3
   },
   "file_extension": ".py",
   "mimetype": "text/x-python",
   "name": "python",
   "nbconvert_exporter": "python",
   "pygments_lexer": "ipython3",
   "version": "3.12.1"
  }
 },
 "nbformat": 4,
 "nbformat_minor": 2
}
