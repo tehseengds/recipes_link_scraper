{
 "cells": [
  {
   "cell_type": "code",
   "execution_count": 1,
   "metadata": {},
   "outputs": [],
   "source": [
    "from selenium import webdriver\n",
    "from selenium.webdriver.common.by import By\n",
    "from selenium.webdriver.support.ui import WebDriverWait\n",
    "from selenium.webdriver.support import expected_conditions as EC\n",
    "from selenium.common.exceptions import TimeoutException, NoSuchElementException, StaleElementReferenceException"
   ]
  },
  {
   "cell_type": "code",
   "execution_count": 6,
   "metadata": {},
   "outputs": [],
   "source": [
    "# Set up the webdriver (make sure you have the appropriate webdriver installed)\n",
    "driver = webdriver.Chrome()\n",
    "\n",
    "# Navigate to the website\n",
    "url = \"https://headbangerskitchen.com/category/recipes/\"\n",
    "\n",
    "driver.get(url)"
   ]
  },
  {
   "cell_type": "code",
   "execution_count": null,
   "metadata": {},
   "outputs": [],
   "source": [
    "import json\n",
    "import time\n",
    "\n",
    "links = []\n",
    "i = 1\n",
    "\n",
    "while True:\n",
    "    try:\n",
    "        articles = driver.find_elements(By.XPATH, '//div[@id=\"archive-container\"]/article/a')\n",
    "\n",
    "        for article in articles:\n",
    "            link = article.get_attribute(\"href\")\n",
    "            links.append(link)\n",
    "            print(link)\n",
    "\n",
    "\n",
    "\n",
    "        next_button = WebDriverWait(driver, 10).until(EC.presence_of_element_located((By.XPATH, '//a[@class=\"next page-numbers\"]')))\n",
    "\n",
    "        driver.execute_script(\"arguments[0].scrollIntoView();\", next_button)\n",
    "\n",
    "        driver.execute_script(\"arguments[0].click();\", next_button)\n",
    "        print(f\"Page Completed {i}\")\n",
    "        i += 1\n",
    "        time.sleep(5)\n",
    "\n",
    "\n",
    "    except Exception as e:\n",
    "        print(e)\n",
    "        break\n",
    "\n",
    "\n",
    "# Remove duplicates from the links list\n",
    "links = list(set(links))\n",
    "\n",
    "# Define the filepath for the JSON file\n",
    "file_name = \"./links/54.headbangerskitchen.json\"\n",
    "\n",
    "# Open the file & Write data to JSON file\n",
    "with open(file_name, \"w\") as f:\n",
    "    json.dump(links, f, indent=4)"
   ]
  }
 ],
 "metadata": {
  "kernelspec": {
   "display_name": ".venv",
   "language": "python",
   "name": "python3"
  },
  "language_info": {
   "codemirror_mode": {
    "name": "ipython",
    "version": 3
   },
   "file_extension": ".py",
   "mimetype": "text/x-python",
   "name": "python",
   "nbconvert_exporter": "python",
   "pygments_lexer": "ipython3",
   "version": "3.12.1"
  }
 },
 "nbformat": 4,
 "nbformat_minor": 2
}
