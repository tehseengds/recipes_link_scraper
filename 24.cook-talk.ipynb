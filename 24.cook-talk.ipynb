{
 "cells": [
  {
   "cell_type": "code",
   "execution_count": 1,
   "metadata": {},
   "outputs": [],
   "source": [
    "from selenium import webdriver\n",
    "from selenium.webdriver.common.by import By\n",
    "from selenium.webdriver.support.ui import WebDriverWait\n",
    "from selenium.webdriver.common.action_chains import ActionChains\n",
    "from selenium.webdriver.support import expected_conditions as EC\n",
    "from selenium.common.exceptions import TimeoutException, NoSuchElementException"
   ]
  },
  {
   "cell_type": "code",
   "execution_count": 2,
   "metadata": {},
   "outputs": [],
   "source": [
    "# Set up the webdriver (make sure you have the appropriate webdriver installed)\n",
    "driver = webdriver.Chrome()\n",
    "\n",
    "# Navigate to the website\n",
    "url = \"https://cook-talk.com/\"\n",
    "driver.get(url)\n"
   ]
  },
  {
   "cell_type": "code",
   "execution_count": 4,
   "metadata": {},
   "outputs": [
    {
     "name": "stdout",
     "output_type": "stream",
     "text": [
      "No more elements to load\n"
     ]
    }
   ],
   "source": [
    "import time\n",
    "\n",
    "while True:\n",
    "    try:\n",
    "        loadmore = WebDriverWait(driver, 5).until(EC.element_to_be_clickable((By.XPATH, '//div[@class=\"vc_pageable-load-more-btn\"]//a')))\n",
    "        loadmore.click()\n",
    "        time.sleep(3)\n",
    "        driver.execute_script(\"arguments[0].scrollIntoView();\", loadmore)\n",
    "        \n",
    "    except TimeoutException:\n",
    "        print(\"No more elements to load\")\n",
    "        break"
   ]
  },
  {
   "cell_type": "code",
   "execution_count": null,
   "metadata": {},
   "outputs": [],
   "source": [
    "import json\n",
    "\n",
    "\n",
    "links = []\n",
    "\n",
    "\n",
    "recipes = driver.find_elements(By.XPATH, '//div[@class=\"vc_pageable-slide-wrapper vc_clearfix\"]//a')\n",
    "for recipe in recipes:\n",
    "    link = recipe.get_attribute(\"href\")\n",
    "    links.append(link)\n",
    "    print(recipe.get_attribute(\"href\"))\n",
    "\n",
    "\n",
    "# Remove duplicates and sort\n",
    "links = list(set(links))\n",
    "\n",
    "# Define the filepath for the JSON file\n",
    "file_name = \"./links/24.cook-talk.json\"\n",
    "\n",
    "# Open the file & Write data to JSON file\n",
    "with open(file_name, \"w\") as f:\n",
    "    json.dump(links, f, indent=4)"
   ]
  },
  {
   "cell_type": "code",
   "execution_count": null,
   "metadata": {},
   "outputs": [],
   "source": [
    "import json\n",
    "\n",
    "# Define the filepath for the JSON file\n",
    "file_name = \"./links/24.cook-talk.json\"\n",
    "\n",
    "# Read data from JSON file\n",
    "with open(file_name, \"r\") as f:\n",
    "    links = json.load(f)\n",
    "\n",
    "# Remove links that contain \"http://cook-talk.com/archive/\"\n",
    "links = [link for link in links if \"http://cook-talk.com/archive/\" not in link]\n",
    "\n",
    "# Print the updated links\n",
    "for link in links:\n",
    "    print(link)\n",
    "\n",
    "# Define the filepath for the new JSON file\n",
    "new_file_name = \"./links/updated_links.json\"\n",
    "\n",
    "    # Open the new file & Write data to JSON file\n",
    "with open(new_file_name, \"w\") as f:\n",
    "    json.dump(links, f, indent=4)\n"
   ]
  }
 ],
 "metadata": {
  "kernelspec": {
   "display_name": ".venv",
   "language": "python",
   "name": "python3"
  },
  "language_info": {
   "codemirror_mode": {
    "name": "ipython",
    "version": 3
   },
   "file_extension": ".py",
   "mimetype": "text/x-python",
   "name": "python",
   "nbconvert_exporter": "python",
   "pygments_lexer": "ipython3",
   "version": "3.12.1"
  }
 },
 "nbformat": 4,
 "nbformat_minor": 2
}
