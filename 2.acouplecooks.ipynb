{
 "cells": [
  {
   "cell_type": "code",
   "execution_count": 1,
   "metadata": {},
   "outputs": [],
   "source": [
    "from selenium import webdriver\n",
    "from selenium.webdriver.common.by import By\n",
    "from selenium.webdriver.support.ui import WebDriverWait\n",
    "from selenium.webdriver.support import expected_conditions as EC"
   ]
  },
  {
   "cell_type": "code",
   "execution_count": 5,
   "metadata": {},
   "outputs": [],
   "source": [
    "# Set up the webdriver (make sure you have the appropriate webdriver installed)\n",
    "driver = webdriver.Chrome()\n",
    "\n",
    "# Navigate to the website\n",
    "url = \"https://www.acouplecooks.com/category/recipes/\"\n",
    "driver.get(url)"
   ]
  },
  {
   "cell_type": "code",
   "execution_count": 15,
   "metadata": {},
   "outputs": [
    {
     "name": "stdout",
     "output_type": "stream",
     "text": [
      "An error occurred: Message: \n",
      "Stacktrace:\n",
      "\tGetHandleVerifier [0x00007FF749982142+3514994]\n",
      "\t(No symbol) [0x00007FF7495A0CE2]\n",
      "\t(No symbol) [0x00007FF7494476AA]\n",
      "\t(No symbol) [0x00007FF749491860]\n",
      "\t(No symbol) [0x00007FF74949197C]\n",
      "\t(No symbol) [0x00007FF7494D4EE7]\n",
      "\t(No symbol) [0x00007FF7494B602F]\n",
      "\t(No symbol) [0x00007FF7494D28F6]\n",
      "\t(No symbol) [0x00007FF7494B5D93]\n",
      "\t(No symbol) [0x00007FF749484BDC]\n",
      "\t(No symbol) [0x00007FF749485C64]\n",
      "\tGetHandleVerifier [0x00007FF7499AE16B+3695259]\n",
      "\tGetHandleVerifier [0x00007FF749A06737+4057191]\n",
      "\tGetHandleVerifier [0x00007FF7499FE4E3+4023827]\n",
      "\tGetHandleVerifier [0x00007FF7496D04F9+689705]\n",
      "\t(No symbol) [0x00007FF7495AC048]\n",
      "\t(No symbol) [0x00007FF7495A8044]\n",
      "\t(No symbol) [0x00007FF7495A81C9]\n",
      "\t(No symbol) [0x00007FF7495988C4]\n",
      "\tBaseThreadInitThunk [0x00007FFB8AFF257D+29]\n",
      "\tRtlUserThreadStart [0x00007FFB8CFAAA58+40]\n",
      "\n"
     ]
    }
   ],
   "source": [
    "import json\n",
    "\n",
    "\n",
    "\n",
    "# Create a list to store the links\n",
    "links = []\n",
    "\n",
    "while True:\n",
    "    try:\n",
    "        # Locate the section element\n",
    "        div_element = driver.find_element(By.XPATH, '//*[@id=\"main-content\"]/div/main/div[3]')\n",
    "\n",
    "        # Find all the article elements within the div\n",
    "        articles = div_element.find_elements(By.CLASS_NAME, 'post-summary.post-summary--primary')\n",
    "\n",
    "        # Iterate through the articles and get the links\n",
    "        for article in articles:\n",
    "            # Find the anchor tag within each article\n",
    "            anchor = article.find_element(By.XPATH, './/div[@class=\"post-summary__count-container\"]/div[@class=\"post-summary__image\"]/a')\n",
    "            \n",
    "            # Get the href attribute (link)\n",
    "            link = anchor.get_attribute(\"href\")\n",
    "            \n",
    "            # Append the link to the list\n",
    "            links.append(link)\n",
    "\n",
    "        # Find and click the \"Next\" button\n",
    "        next_button = WebDriverWait(driver, 3).until(EC.element_to_be_clickable((By.XPATH, '//a[@class=\"facetwp-page next\"]')))\n",
    "        next_button.click()\n",
    "\n",
    "    except Exception as e:\n",
    "        # Break the loop if there's no \"Next\" button or any other exception occurs\n",
    "        print(f\"An error occurred: {e}\")\n",
    "        break\n",
    "\n",
    "# Remove duplicates from the links list\n",
    "links = list(set(links))\n",
    "\n",
    "# Define the filepath for the JSON file\n",
    "file_name = \"./links/acouplecooks.json\"\n",
    "\n",
    "# Save the links to the JSON file\n",
    "with open(file_name, 'w') as file:\n",
    "    json.dump(links, file)\n"
   ]
  },
  {
   "cell_type": "code",
   "execution_count": 26,
   "metadata": {},
   "outputs": [
    {
     "name": "stdout",
     "output_type": "stream",
     "text": [
      "3036\n"
     ]
    }
   ],
   "source": [
    "import json\n",
    "\n",
    "# Read the JSON file\n",
    "with open('./links/acouplecooks.json', 'r') as file:\n",
    "    links = json.load(file)\n",
    "\n",
    "# Count the elements in links\n",
    "count = len(links)\n",
    "\n",
    "# Print the count\n",
    "print(count)\n"
   ]
  },
  {
   "cell_type": "code",
   "execution_count": 25,
   "metadata": {},
   "outputs": [
    {
     "name": "stdout",
     "output_type": "stream",
     "text": [
      "No duplicates found in acouplecooks.json file.\n"
     ]
    }
   ],
   "source": [
    "import json\n",
    "\n",
    "# Read the JSON file\n",
    "with open('./links/acouplecooks.json', 'r') as file:\n",
    "    links = json.load(file)\n",
    "\n",
    "# Find duplicates\n",
    "duplicates = [link for link in links if links.count(link) > 1]\n",
    "\n",
    "# Print the result\n",
    "if duplicates:\n",
    "    print(\"Duplicates found in acouplecooks.json file.\")\n",
    "    print(\"Duplicate links:\")\n",
    "    for duplicate in duplicates:\n",
    "        print(duplicate)\n",
    "else:\n",
    "    print(\"No duplicates found in acouplecooks.json file.\")\n"
   ]
  }
 ],
 "metadata": {
  "kernelspec": {
   "display_name": ".venv",
   "language": "python",
   "name": "python3"
  },
  "language_info": {
   "codemirror_mode": {
    "name": "ipython",
    "version": 3
   },
   "file_extension": ".py",
   "mimetype": "text/x-python",
   "name": "python",
   "nbconvert_exporter": "python",
   "pygments_lexer": "ipython3",
   "version": "3.12.1"
  }
 },
 "nbformat": 4,
 "nbformat_minor": 2
}
