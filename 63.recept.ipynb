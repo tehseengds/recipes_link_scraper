{
 "cells": [
  {
   "cell_type": "code",
   "execution_count": 1,
   "metadata": {},
   "outputs": [],
   "source": [
    "from selenium import webdriver\n",
    "from selenium.webdriver.common.by import By\n",
    "from selenium.webdriver.support.ui import WebDriverWait\n",
    "from selenium.webdriver.support import expected_conditions as EC\n",
    "from selenium.common.exceptions import TimeoutException, NoSuchElementException, StaleElementReferenceException"
   ]
  },
  {
   "cell_type": "code",
   "execution_count": 2,
   "metadata": {},
   "outputs": [],
   "source": [
    "from selenium import webdriver\n",
    "\n",
    "options = webdriver.ChromeOptions()\n",
    "options.add_argument(\"user-agent=Mozilla/5.0 (Windows NT 10.0; Win64; x64) AppleWebKit/537.36 (KHTML, like Gecko) Chrome/91.0.4472.124 Safari/537.36\")\n",
    "\n",
    "driver = webdriver.Chrome(options=options)\n",
    "\n",
    "url = \"https://recept.se/kategorier\"\n",
    "driver.get(url)\n"
   ]
  },
  {
   "cell_type": "code",
   "execution_count": null,
   "metadata": {},
   "outputs": [],
   "source": [
    "import json\n",
    "links = []\n",
    "try:\n",
    "    articles = driver.find_elements(By.XPATH, '//a[@class=\"absolute z-10 top-0 left-0 w-full h-full bg-tag-card flex justify-center items-center text-white text-1r9 font-bold md:text-2r5\"]')\n",
    "    for article in articles:\n",
    "        link = article.get_attribute(\"href\")\n",
    "        links.append(link)\n",
    "        print(link)\n",
    "except Exception as e:\n",
    "    print(e)\n",
    "\n",
    "\n",
    "# Remove duplicates from the links list\n",
    "links = list(set(links))\n",
    "\n",
    "# Define the filepath for the JSON file\n",
    "file_name = \"./recept.json\"\n",
    "\n",
    "# Open the file & Write data to JSON file\n",
    "with open(file_name, \"w\") as f:\n",
    "    json.dump(links, f, indent=4)"
   ]
  },
  {
   "cell_type": "code",
   "execution_count": null,
   "metadata": {},
   "outputs": [],
   "source": [
    "import json\n",
    "import time\n",
    "\n",
    "# Define the filepath for the JSON file\n",
    "file_name = \"./recept.json\"\n",
    "\n",
    "# Read data from JSON file\n",
    "with open(file_name, \"r\") as f:\n",
    "    urls = json.load(f)\n",
    "\n",
    "links = []\n",
    "\n",
    "# Loop through the urls\n",
    "for url in urls:\n",
    "    # Open the URL\n",
    "    driver.get(url)\n",
    "    # Wait for the page to load\n",
    "    time.sleep(5)\n",
    "\n",
    "    # Get links from all pages\n",
    "    while True:\n",
    "        try:\n",
    "            # Get the links from the current page\n",
    "            articles = driver.find_elements(By.XPATH, '//div[@class=\"w-1/2 md:w-1/3 lg:w-1/4 px-0r75 pb-2r8 md:pb-3r0 md:px-1r4\"]/a')\n",
    "            for article in articles:\n",
    "                link = article.get_attribute(\"href\")\n",
    "                links.append(link)\n",
    "                print(link)\n",
    "\n",
    "            # Check if there's a next page button\n",
    "            next_button = driver.find_element(By.XPATH, '//button[@aria-label=\"Nästa sida\"]')\n",
    "            # Click the next page button\n",
    "            next_button.click()\n",
    "            # Wait for the page to load\n",
    "            time.sleep(5)\n",
    "        except Exception as e:\n",
    "            # If there's no next page button, break the loop\n",
    "            print(\"No more pages available\")\n",
    "            break\n",
    "\n",
    "# Remove duplicates from the links list\n",
    "links = list(set(links))\n",
    "\n",
    "# Define the filepath for the JSON file\n",
    "file_name = \"./links/63.recept.json\"\n",
    "\n",
    "# Open the file & Write data to JSON file\n",
    "with open(file_name, \"w\") as f:\n",
    "    json.dump(links, f, indent=4)"
   ]
  }
 ],
 "metadata": {
  "kernelspec": {
   "display_name": ".venv",
   "language": "python",
   "name": "python3"
  },
  "language_info": {
   "codemirror_mode": {
    "name": "ipython",
    "version": 3
   },
   "file_extension": ".py",
   "mimetype": "text/x-python",
   "name": "python",
   "nbconvert_exporter": "python",
   "pygments_lexer": "ipython3",
   "version": "3.12.1"
  }
 },
 "nbformat": 4,
 "nbformat_minor": 2
}
