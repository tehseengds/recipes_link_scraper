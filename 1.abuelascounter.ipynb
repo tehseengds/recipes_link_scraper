{
 "cells": [
  {
   "cell_type": "code",
   "execution_count": 2,
   "metadata": {},
   "outputs": [],
   "source": [
    "from selenium import webdriver\n",
    "from selenium.webdriver.common.by import By\n",
    "from selenium.webdriver.support.ui import WebDriverWait\n",
    "from selenium.webdriver.support import expected_conditions as EC"
   ]
  },
  {
   "cell_type": "code",
   "execution_count": 9,
   "metadata": {},
   "outputs": [],
   "source": [
    "# Set up the webdriver (make sure you have the appropriate webdriver installed)\n",
    "driver = webdriver.Chrome()\n",
    "\n",
    "# Navigate to the website\n",
    "url = \"https://abuelascounter.com/recipe-index/\"\n",
    "driver.get(url)"
   ]
  },
  {
   "cell_type": "code",
   "execution_count": 10,
   "metadata": {},
   "outputs": [],
   "source": [
    "# Find the load more button and click it until it disappears\n",
    "while True:\n",
    "    try:\n",
    "        load_more = driver.find_element(By.XPATH, '//*[@id=\"load-more\"]')\n",
    "        load_more.click()\n",
    "    except:\n",
    "        break"
   ]
  },
  {
   "cell_type": "code",
   "execution_count": 14,
   "metadata": {},
   "outputs": [],
   "source": [
    "import json\n",
    "\n",
    "# Locate the section element\n",
    "section = driver.find_element(By.XPATH, '//*[@id=\"recent-posts\"]')\n",
    "\n",
    "# Find all the article elements within the section\n",
    "articles = section.find_elements(By.XPATH, './/article')\n",
    "\n",
    "# Create a list to store the links\n",
    "links = []\n",
    "\n",
    "# Iterate through the articles and get the links\n",
    "for article in articles:\n",
    "    # Find the anchor tag within each article\n",
    "    anchor = article.find_element(By.XPATH, './/div[@class=\"post-thumb\"]/a')\n",
    "    \n",
    "    # Get the href attribute (link)\n",
    "    link = anchor.get_attribute(\"href\")\n",
    "    \n",
    "    # Append the link to the list\n",
    "    links.append(link)\n",
    "\n",
    "# Define the filepath for the JSON file\n",
    "file_name = \"./links/abuelascounter.json\"\n",
    "\n",
    "# Save the links to the JSON file\n",
    "with open(file_name, 'w') as file:\n",
    "    json.dump(links, file)\n"
   ]
  },
  {
   "cell_type": "code",
   "execution_count": 16,
   "metadata": {},
   "outputs": [
    {
     "name": "stdout",
     "output_type": "stream",
     "text": [
      "210\n"
     ]
    }
   ],
   "source": [
    "import json\n",
    "\n",
    "# Read the JSON file\n",
    "with open('./links/links.json', 'r') as file:\n",
    "    links = json.load(file)\n",
    "\n",
    "# Count the elements in links\n",
    "count = len(links)\n",
    "\n",
    "# Print the count\n",
    "print(count)\n"
   ]
  }
 ],
 "metadata": {
  "kernelspec": {
   "display_name": ".venv",
   "language": "python",
   "name": "python3"
  },
  "language_info": {
   "codemirror_mode": {
    "name": "ipython",
    "version": 3
   },
   "file_extension": ".py",
   "mimetype": "text/x-python",
   "name": "python",
   "nbconvert_exporter": "python",
   "pygments_lexer": "ipython3",
   "version": "3.12.1"
  }
 },
 "nbformat": 4,
 "nbformat_minor": 2
}
