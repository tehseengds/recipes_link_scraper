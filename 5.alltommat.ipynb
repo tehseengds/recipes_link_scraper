{
 "cells": [
  {
   "cell_type": "code",
   "execution_count": 1,
   "metadata": {},
   "outputs": [],
   "source": [
    "from selenium import webdriver\n",
    "from selenium.webdriver.common.by import By\n",
    "from selenium.webdriver.support.ui import WebDriverWait\n",
    "from selenium.webdriver.support import expected_conditions as EC\n",
    "from selenium.common.exceptions import TimeoutException, NoSuchElementException"
   ]
  },
  {
   "cell_type": "code",
   "execution_count": 4,
   "metadata": {},
   "outputs": [],
   "source": [
    "# Set up the webdriver (make sure you have the appropriate webdriver installed)\n",
    "# driver = webdriver.Chrome()\n",
    "chrome_options = webdriver.ChromeOptions()\n",
    "# chrome_options.add_argument('--disable-dev-shm-usage')\n",
    "# chrome_options.add_argument('--ChromeOSMemoryPressureHandling')\n",
    "chrome_options.add_argument('--no-sandbox')\n",
    "# chrome_options.add_argument('memory-pressure-thresholds-mb[6]')\n",
    "# chrome_options.add_argument('--headless')\n",
    "\n",
    "driver = webdriver.Chrome(options=chrome_options)\n",
    "# Navigate to the website\n",
    "url = \"https://alltommat.expressen.se/recept/\"\n",
    "driver.get(url)"
   ]
  },
  {
   "cell_type": "code",
   "execution_count": null,
   "metadata": {},
   "outputs": [],
   "source": [
    "while True:\n",
    "    try:\n",
    "        button = driver.find_element(By.XPATH, '//*[@id=\"skip-to-content\"]/button')\n",
    "        driver.execute_script(\"arguments[0].click();\", button)\n",
    "        print(\"Clicked\")\n",
    "\n",
    "    except Exception as e:\n",
    "        print(e)\n",
    "        break\n"
   ]
  },
  {
   "cell_type": "code",
   "execution_count": 8,
   "metadata": {},
   "outputs": [
    {
     "name": "stdout",
     "output_type": "stream",
     "text": [
      "5287\n"
     ]
    }
   ],
   "source": [
    "import json\n",
    "\n",
    "# Function to scrape links from the currently loaded page\n",
    "def scrape_current_page():\n",
    "    section = driver.find_elements(By.XPATH, '//div[@class=\"teaser\"]/a')\n",
    "    links.extend(link.get_attribute(\"href\") for link in section)\n",
    "\n",
    "# Function to click the \"Load More\" button\n",
    "def load_more():\n",
    "    try:\n",
    "        load_more_button = driver.find_element(By.XPATH, '//*[@id=\"skip-to-content\"]/button')\n",
    "        driver.execute_script(\"arguments[0].click();\", load_more_button)\n",
    "        return True\n",
    "    except TimeoutException:\n",
    "        return False\n",
    "\n",
    "# List to store all scraped links\n",
    "links = []\n",
    "\n",
    "# Initial scrape\n",
    "scrape_current_page()\n",
    "\n",
    "# Loop to click the \"Load More\" button until it's not found\n",
    "# while load_more():\n",
    "#     scrape_current_page()\n",
    "\n",
    "scrape_current_page()\n",
    "\n",
    "# Remove duplicates from the links list\n",
    "links = list(set(links))\n",
    "\n",
    "print(len(links))\n",
    "# print(links)\n",
    "\n",
    "# Define the filepath for the JSON file\n",
    "file_name = \"./links/5.alltommat.json\"\n",
    "# Open the file & Write data to JSON file\n",
    "with open(file_name, \"w\") as f:\n",
    "    json.dump(links, f, indent=4)\n",
    "\n",
    "# # Save the links to the JSON file\n",
    "# with open(file_name, 'w') as file:\n",
    "#     json.dump(links, file)\n",
    "# # Remove duplicates from the links list\n",
    "# # links = list(set(links))\n",
    "\n"
   ]
  },
  {
   "cell_type": "code",
   "execution_count": 2,
   "metadata": {},
   "outputs": [
    {
     "name": "stdout",
     "output_type": "stream",
     "text": [
      "Filtered URLs saved to output.json\n"
     ]
    }
   ],
   "source": [
    "import json\n",
    "\n",
    "# Load the JSON file\n",
    "input_file_path = \"5 scraped data.json\"  # Replace with the path to your input JSON file\n",
    "output_file_path = \"output.json\"  # Replace with the desired path for the output JSON file\n",
    "\n",
    "with open(input_file_path, 'r') as file:\n",
    "    data = json.load(file)\n",
    "\n",
    "# Filter out URLs containing \"/artiklar/\"\n",
    "filtered_urls = [url for url in data if \"/artiklar/\" not in url]\n",
    "\n",
    "# Save the filtered URLs to a new JSON file\n",
    "with open(output_file_path, 'w') as file:\n",
    "    json.dump(filtered_urls, file, indent=2)\n",
    "\n",
    "print(f\"Filtered URLs saved to {output_file_path}\")"
   ]
  }
 ],
 "metadata": {
  "kernelspec": {
   "display_name": ".venv",
   "language": "python",
   "name": "python3"
  },
  "language_info": {
   "codemirror_mode": {
    "name": "ipython",
    "version": 3
   },
   "file_extension": ".py",
   "mimetype": "text/x-python",
   "name": "python",
   "nbconvert_exporter": "python",
   "pygments_lexer": "ipython3",
   "version": "3.12.1"
  }
 },
 "nbformat": 4,
 "nbformat_minor": 2
}
