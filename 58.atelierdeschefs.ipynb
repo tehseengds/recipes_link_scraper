{
 "cells": [
  {
   "cell_type": "code",
   "execution_count": 1,
   "metadata": {},
   "outputs": [],
   "source": [
    "from selenium import webdriver\n",
    "from selenium.webdriver.common.by import By\n",
    "from selenium.webdriver.support.ui import WebDriverWait\n",
    "from selenium.webdriver.support import expected_conditions as EC\n",
    "from selenium.common.exceptions import TimeoutException, NoSuchElementException, StaleElementReferenceException"
   ]
  },
  {
   "cell_type": "code",
   "execution_count": 13,
   "metadata": {},
   "outputs": [],
   "source": [
    "options = webdriver.ChromeOptions()\n",
    "options.add_argument(\"user-agent=Mozilla/5.0 (Windows NT 10.0; Win64; x64) AppleWebKit/537.36 (KHTML, like Gecko) Chrome/91.0.4472.124 Safari/537.36\")\n",
    "\n",
    "driver = webdriver.Chrome(options=options)\n",
    "\n",
    "# url = 'https://www.atelierdeschefs.fr/recettes/categories/2688/vegetariennes/'\n",
    "# url = 'https://www.atelierdeschefs.fr/recettes/categories/1921/mignardises/'\n",
    "# url = 'https://www.atelierdeschefs.fr/recettes/categories/16/aperitif-tapas/'\n",
    "# url = 'https://www.atelierdeschefs.fr/recettes/categories/13/les-bases-de-la-cuisine/'\n",
    "# url = 'https://www.atelierdeschefs.fr/recettes/categories/11/cocktail-et-boisson/'\n",
    "# url = 'https://www.atelierdeschefs.fr/recettes/categories/10/entrees/'\n",
    "# url = 'https://www.atelierdeschefs.fr/recettes/categories/9/plats/'\n",
    "# url = 'https://www.atelierdeschefs.fr/recettes/categories/8/desserts/'\n",
    "url = 'https://www.atelierdeschefs.fr/recettes/categories/2/pains-and-viennoiseries'\n",
    "\n",
    "driver.get(url)\n"
   ]
  },
  {
   "cell_type": "code",
   "execution_count": null,
   "metadata": {},
   "outputs": [],
   "source": [
    "import json\n",
    "import time\n",
    "\n",
    "\n",
    "links = []\n",
    "\n",
    "while True:\n",
    "    try:\n",
    "        articles = WebDriverWait(driver, 10).until(\n",
    "            EC.presence_of_all_elements_located((By.XPATH, '//div[@class=\"undefined ListItem_text_container_with_image__VVA2k\"]/a')))\n",
    "        \n",
    "        for article in articles:\n",
    "            link = article.get_attribute(\"href\")\n",
    "            links.append(link)\n",
    "            print(link)\n",
    "\n",
    "\n",
    "        # Wait for the presence of at least one element matching the XPath\n",
    "        next_button = driver.find_elements(By.XPATH, '//li[@class=\"style_arrow__NmnqN \"]')\n",
    "\n",
    "        # Click the last button\n",
    "        next_button = next_button[-1]\n",
    "        next_button.click()\n",
    "\n",
    "        # If the last button is disabled, break out of the loop\n",
    "        if next_button.get_attribute(\"class\") == \"style_arrow__NmnqN style_disabled_arrow___78a6\":\n",
    "            break\n",
    "\n",
    "        time.sleep(3)\n",
    "\n",
    "    except Exception as e:\n",
    "        continue\n",
    "\n",
    "# Remove duplicates from the links list\n",
    "links = list(set(links))\n",
    "\n",
    "# Define the filepath for the JSON file\n",
    "file_name = \"./atelierdeschefs/9.json\"\n",
    "\n",
    "# Open the file & Write data to JSON file\n",
    "with open(file_name, \"w\") as f:\n",
    "    json.dump(links, f, indent=4)\n"
   ]
  },
  {
   "cell_type": "code",
   "execution_count": null,
   "metadata": {},
   "outputs": [],
   "source": [
    "import os\n",
    "import json\n",
    "\n",
    "# Define the folder path\n",
    "folder_path = \"./atelierdeschefs\"\n",
    "\n",
    "# Get all JSON files in the folder\n",
    "json_files = [file for file in os.listdir(folder_path) if file.endswith(\".json\")]\n",
    "\n",
    "# Initialize an empty list to store all links\n",
    "all_links = []\n",
    "\n",
    "# Read and collect links from each JSON file\n",
    "for file in json_files:\n",
    "    file_path = os.path.join(folder_path, file)\n",
    "    with open(file_path, \"r\") as f:\n",
    "        links = json.load(f)\n",
    "        all_links.extend(links)\n",
    "\n",
    "# Remove duplicates from the links list\n",
    "unique_links = list(set(all_links))\n",
    "\n",
    "# Define the filepath for the new JSON file\n",
    "new_file_name = \"./links/58.atelierdeschefs.json\"\n",
    "\n",
    "# Write unique links to the new JSON file\n",
    "with open(new_file_name, \"w\") as f:\n",
    "    json.dump(unique_links, f, indent=4)\n"
   ]
  }
 ],
 "metadata": {
  "kernelspec": {
   "display_name": ".venv",
   "language": "python",
   "name": "python3"
  },
  "language_info": {
   "codemirror_mode": {
    "name": "ipython",
    "version": 3
   },
   "file_extension": ".py",
   "mimetype": "text/x-python",
   "name": "python",
   "nbconvert_exporter": "python",
   "pygments_lexer": "ipython3",
   "version": "3.12.1"
  }
 },
 "nbformat": 4,
 "nbformat_minor": 2
}
