{
 "cells": [
  {
   "cell_type": "code",
   "execution_count": 1,
   "metadata": {},
   "outputs": [],
   "source": [
    "from selenium import webdriver\n",
    "from selenium.webdriver.common.by import By\n",
    "from selenium.webdriver.support.ui import WebDriverWait\n",
    "from selenium.webdriver.common.action_chains import ActionChains\n",
    "from selenium.webdriver.support import expected_conditions as EC\n",
    "from selenium.common.exceptions import TimeoutException, NoSuchElementException"
   ]
  },
  {
   "cell_type": "code",
   "execution_count": 15,
   "metadata": {},
   "outputs": [],
   "source": [
    "# Set up the webdriver (make sure you have the appropriate webdriver installed)\n",
    "driver = webdriver.Chrome()\n",
    "\n",
    "# Navigate to the website\n",
    "url = \"https://www.foodrepublic.com/category/recipes/\"\n",
    "driver.get(url)"
   ]
  },
  {
   "cell_type": "code",
   "execution_count": null,
   "metadata": {},
   "outputs": [],
   "source": [
    "import time\n",
    "\n",
    "start_time = time.time()\n",
    "while True:\n",
    "    try:\n",
    "        # Scroll the page\n",
    "        driver.execute_script(\"window.scrollTo(0, document.body.scrollHeight);\")\n",
    "        if time.time() - start_time >= 5:\n",
    "            # Find the next button\n",
    "            next_button = driver.find_element(By.LINK_TEXT, 'Next >')\n",
    "            # Click the next button\n",
    "            next_button.click()\n",
    "\n",
    "    except TimeoutException:\n",
    "        print(\"No more elements to load\")\n",
    "        break"
   ]
  },
  {
   "cell_type": "code",
   "execution_count": null,
   "metadata": {},
   "outputs": [],
   "source": [
    "import json\n",
    "import time\n",
    "\n",
    "\n",
    "links = []\n",
    "start_time = time.time()\n",
    "\n",
    "while True:\n",
    "    try:\n",
    "        # Scroll the page\n",
    "        driver.execute_script(\"window.scrollTo(0, document.body.scrollHeight);\")\n",
    "        if time.time() - start_time >= 6:\n",
    "            # Find all the recipes\n",
    "            recipes = driver.find_elements(By.XPATH, '//article[@class=\"article-block\"]/div[@class=\"image-holder \"]/a')\n",
    "            for recipe in recipes:\n",
    "                link = recipe.get_attribute(\"href\")\n",
    "                links.append(link)\n",
    "                print(link)\n",
    "                \n",
    "\n",
    "        else:\n",
    "            # Find the next button\n",
    "            next_button = driver.find_element(By.LINK_TEXT, 'Next >')\n",
    "            next_button.click()\n",
    "            start_time = time.time()\n",
    "\n",
    "    except TimeoutException:\n",
    "        print(\"No more elements to load\")\n",
    "        break\n",
    "    \n",
    "\n",
    "# Remove duplicates and sort\n",
    "links = list(set(links))\n",
    "\n",
    "# Define the filepath for the JSON file\n",
    "file_name = \"./links/41.foodrepublic.json\"\n",
    "\n",
    "# Open the file & Write data to JSON file\n",
    "with open(file_name, \"w\") as f:\n",
    "    json.dump(links, f, indent=4)"
   ]
  },
  {
   "cell_type": "code",
   "execution_count": null,
   "metadata": {},
   "outputs": [],
   "source": [
    "import time\n",
    "\n",
    "links = []\n",
    "start_time = time.time()\n",
    "\n",
    "while True:\n",
    "    try:\n",
    "        # Scroll the page\n",
    "        driver.execute_script(\"window.scrollTo(0, document.body.scrollHeight);\")\n",
    "        if time.time() - start_time >= 6:\n",
    "            # Find all the articles\n",
    "            articles = driver.find_elements(By.XPATH, '//article[@class=\"article-block\"]/div[@class=\"image-holder \"]/a')\n",
    "            for article in articles:\n",
    "                link = article.get_attribute(\"href\")\n",
    "                links.append(link)\n",
    "                print(link)\n",
    "\n",
    "    except TimeoutException:\n",
    "        print(\"No more elements to load\")\n",
    "        break\n",
    "\n",
    "# Remove duplicates and sort\n",
    "links = list(set(links))\n",
    "\n",
    "# Define the filepath for the JSON file\n",
    "file_name = \"./links/41.foodrepublic.json\"\n",
    "\n",
    "# Open the file & Write data to JSON file\n",
    "with open(file_name, \"w\") as f:\n",
    "    json.dump(links, f, indent=4)"
   ]
  }
 ],
 "metadata": {
  "kernelspec": {
   "display_name": ".venv",
   "language": "python",
   "name": "python3"
  },
  "language_info": {
   "codemirror_mode": {
    "name": "ipython",
    "version": 3
   },
   "file_extension": ".py",
   "mimetype": "text/x-python",
   "name": "python",
   "nbconvert_exporter": "python",
   "pygments_lexer": "ipython3",
   "version": "3.12.1"
  }
 },
 "nbformat": 4,
 "nbformat_minor": 2
}
